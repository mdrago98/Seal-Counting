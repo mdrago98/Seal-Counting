{
 "cells": [
  {
   "cell_type": "code",
   "execution_count": 1,
   "metadata": {},
   "outputs": [],
   "source": [
    "import tensorflow as tf\n",
    "from tensorflow.keras.layers import Conv2D, Input, LeakyReLU, ZeroPadding2D, BatchNormalization, MaxPool2D\n",
    "from matplotlib import pyplot as plt\n",
    "from PIL import Image\n",
    "\n"
   ]
  },
  {
   "cell_type": "markdown",
   "metadata": {},
   "source": [
    "# Implementing the DarkNet 53 \n",
    "\n",
    "The cnn consists of a 53 layer deep nn each layer is followed by BN and a Leaky relu activation. Downsampling is done using the conv layers with stride 2.  \n",
    "First step is to overload the BatchNorm Block."
   ]
  },
  {
   "cell_type": "code",
   "execution_count": null,
   "metadata": {},
   "outputs": [],
   "source": [
    "class BatchNormalization(BatchNormalization):\n",
    "    def call(self, x, training=False):\n",
    "        if not training:\n",
    "            training = tf.constant(training)\n",
    "        training = tf.logical_and(self.trainable, training)\n",
    "        return super().call(x, training)"
   ]
  },
  {
   "cell_type": "code",
   "execution_count": null,
   "metadata": {},
   "outputs": [],
   "source": [
    "def convolutional(input_layer, filters_shape, downsample=False, activate=True, bn=True):\n",
    "    if downsample:\n",
    "        input_layer = ZeroPadding2D(((1, 0), (1, 0)))(input_layer)\n",
    "        padding = 'valid'\n",
    "        strides = 2\n",
    "    else:\n",
    "        strides = 1\n",
    "        padding = 'same'\n",
    "\n",
    "    conv = Conv2D(filters=filters_shape[-1], kernel_size = filters_shape[0], strides=strides,\n",
    "                  padding=padding, use_bias=not bn, kernel_regularizer=l2(0.0005),\n",
    "                  kernel_initializer=tf.random_normal_initializer(stddev=0.01),\n",
    "                  bias_initializer=tf.constant_initializer(0.))(input_layer)\n",
    "    if bn:\n",
    "        conv = BatchNormalization()(conv)\n",
    "    if activate == True:\n",
    "        conv = LeakyReLU(alpha=0.1)(conv)\n",
    "\n",
    "    return conv"
   ]
  },
  {
   "cell_type": "code",
   "execution_count": null,
   "metadata": {},
   "outputs": [],
   "source": [
    "class DarknetConvolution(tf.keras.layers.Layer):\n",
    "    def __init__(filter_shape, downsample=False, activation=LeakyReLU, batch_norm=True, **kwargs):\n",
    "        super().__init__(**kwargs)\n",
    "        self.main_layers = []\n",
    "        if downsample:\n",
    "            self.main_layers += [ZeroPadding2D((1, 0), (1, 0))]\n",
    "            padding = valid\n",
    "            strides = 2\n",
    "        else:\n",
    "            padding = 'same'\n",
    "            strides = 1\n",
    "\n",
    "        self.main_layers += [\n",
    "            Conv2D(filters=filters_shape[-1], kernel_size = filters_shape[0], strides=strides,\n",
    "            padding)\n",
    "        ]\n",
    "        if bn:\n",
    "            self.main_layers += [BatchNormalization()]\n",
    "        if activation\n",
    "            self.main_layers += [LeakyReLU()]\n",
    "    \n",
    "    def call(input, **kwargs):\n",
    "        pass"
   ]
  },
  {
   "cell_type": "markdown",
   "metadata": {},
   "source": [
    "_fixed_padding pads input along height and width dimension with appropriate number of 0s (when mode='CONSTANT'). We will also use mode='SYMMETRIC' later on.\n"
   ]
  },
  {
   "cell_type": "markdown",
   "metadata": {},
   "source": [
    "Now we can define _conv2d_fixed_padding function:"
   ]
  },
  {
   "cell_type": "code",
   "execution_count": null,
   "metadata": {},
   "outputs": [],
   "source": [
    "def conv2d_fixed_padding(inputs, filters, kernel_size, strides=1):\n",
    "    if strides > 1:\n",
    "        inputs = _fixed_padding(inputs, kernel_size)\n",
    "    inputs = slim.conv2d(inputs, filters, kernel_size, stride=strides, padding=('SAME' if strides == 1 else 'VALID'))\n",
    "    return inputs"
   ]
  }
 ],
 "metadata": {
  "language_info": {
   "codemirror_mode": {
    "name": "ipython",
    "version": 3
   },
   "file_extension": ".py",
   "mimetype": "text/x-python",
   "name": "python",
   "nbconvert_exporter": "python",
   "pygments_lexer": "ipython3",
   "version": "3.8.3-final"
  },
  "orig_nbformat": 2,
  "kernelspec": {
   "name": "python38364bitcs5099sealcountingconda2a58ca1686df4d219b9a33af7be1948b",
   "display_name": "Python 3.8.3 64-bit ('CS5099-SealCounting': conda)"
  }
 },
 "nbformat": 4,
 "nbformat_minor": 2
}