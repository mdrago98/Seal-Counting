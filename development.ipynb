{
 "cells": [
  {
   "cell_type": "code",
   "execution_count": 1,
   "metadata": {
    "collapsed": false,
    "jupyter": {
     "outputs_hidden": false
    },
    "pycharm": {
     "name": "#%%\n"
    }
   },
   "outputs": [
    {
     "ename": "ModuleNotFoundError",
     "evalue": "No module named 'evaluator'",
     "output_type": "error",
     "traceback": [
      "\u001B[0;31m---------------------------------------------------------------------------\u001B[0m",
      "\u001B[0;31mModuleNotFoundError\u001B[0m                       Traceback (most recent call last)",
      "\u001B[0;32m<ipython-input-1-95a2821f29d8>\u001B[0m in \u001B[0;36m<module>\u001B[0;34m\u001B[0m\n\u001B[1;32m      2\u001B[0m \u001B[0;32mimport\u001B[0m \u001B[0mpandas\u001B[0m \u001B[0;32mas\u001B[0m \u001B[0mpd\u001B[0m\u001B[0;34m\u001B[0m\u001B[0;34m\u001B[0m\u001B[0m\n\u001B[1;32m      3\u001B[0m \u001B[0;32mfrom\u001B[0m \u001B[0mtensorflow\u001B[0m\u001B[0;34m.\u001B[0m\u001B[0mpython\u001B[0m\u001B[0;34m.\u001B[0m\u001B[0mkeras\u001B[0m \u001B[0;32mimport\u001B[0m \u001B[0mInput\u001B[0m\u001B[0;34m\u001B[0m\u001B[0;34m\u001B[0m\u001B[0m\n\u001B[0;32m----> 4\u001B[0;31m \u001B[0;32mfrom\u001B[0m \u001B[0mevaluator\u001B[0m \u001B[0;32mimport\u001B[0m \u001B[0mcalculate_metrics\u001B[0m\u001B[0;34m\u001B[0m\u001B[0;34m\u001B[0m\u001B[0m\n\u001B[0m\u001B[1;32m      5\u001B[0m \u001B[0;32mfrom\u001B[0m \u001B[0mkmeans\u001B[0m \u001B[0;32mimport\u001B[0m \u001B[0mkmeans\u001B[0m\u001B[0;34m\u001B[0m\u001B[0;34m\u001B[0m\u001B[0m\n\u001B[1;32m      6\u001B[0m \u001B[0;32mfrom\u001B[0m \u001B[0myolov3_tf2\u001B[0m \u001B[0;32mimport\u001B[0m \u001B[0mdataset\u001B[0m\u001B[0;34m\u001B[0m\u001B[0;34m\u001B[0m\u001B[0m\n",
      "\u001B[0;31mModuleNotFoundError\u001B[0m: No module named 'evaluator'"
     ]
    }
   ],
   "source": [
    "import seaborn as sns\n",
    "import pandas as pd\n",
    "from tensorflow.python.keras import Input\n",
    "from evaluator import calculate_metrics\n",
    "from kmeans import kmeans\n",
    "from yolov3_tf2 import dataset\n",
    "import tensorflow as tf\n",
    "from yolov3_tf2.models import YoloV3, DarknetConv, DarknetBlock\n",
    "import matplotlib.pyplot as plt\n",
    "import os\n",
    "from yolov3_tf2.utils import draw_outputs\n",
    "import numpy as np\n",
    "from tensorflow.keras.applications.resnet_v2 import ResNet152V2\n",
    "from PIL import Image\n",
    "sns.set_style(\"whitegrid\")\n",
    "sns.despine(offset=10, trim=True)\n",
    "\n",
    "os.environ[\"CUDA_VISIBLE_DEVICES\"] = \"-1\""
   ]
  },
  {
   "cell_type": "code",
   "execution_count": null,
   "metadata": {
    "collapsed": false,
    "jupyter": {
     "outputs_hidden": false
    },
    "pycharm": {
     "name": "#%%\n"
    }
   },
   "outputs": [],
   "source": [
    "pix_coord = '/data2/seals/pixel_coord.xlsx'\n",
    "og_records = pd.read_excel(pix_coord, sheet_name=\"PixelCoordinates\")[[\"tiff_file\", \"x_pixel\", \"y_pixel\"]].dropna()\n",
    "file_props = pd.read_excel(pix_coord, sheet_name=\"FileOverview\").dropna()\n",
    "og_records = og_records.merge(\n",
    "    file_props[[\"tiff_file\", \"image_width\", \"image_height\"]], how=\"inner\"\n",
    ")\n",
    "og_records.head()"
   ]
  },
  {
   "cell_type": "code",
   "execution_count": null,
   "metadata": {
    "collapsed": false,
    "jupyter": {
     "outputs_hidden": false
    },
    "pycharm": {
     "name": "#%%\n"
    }
   },
   "outputs": [],
   "source": [
    "normalised_og = og_records.copy()\n",
    "normalised_og['x_pixel'] = normalised_og['x_pixel'] / normalised_og['image_width']\n",
    "normalised_og['y_pixel'] = normalised_og['image_height'] - normalised_og['y_pixel']\n",
    "normalised_og['y_pixel'] = normalised_og['y_pixel'] / normalised_og['image_height']\n",
    "normalised_og.head()"
   ]
  },
  {
   "cell_type": "code",
   "execution_count": null,
   "metadata": {
    "collapsed": false,
    "jupyter": {
     "outputs_hidden": false
    },
    "pycharm": {
     "name": "#%%\n"
    }
   },
   "outputs": [],
   "source": [
    "sns.distplot(normalised_og[\"x_pixel\"])"
   ]
  },
  {
   "cell_type": "code",
   "execution_count": null,
   "outputs": [],
   "source": [
    "def extract_intervals(size: tuple, split_size: tuple):\n",
    "    \"\"\"\n",
    "    A function to generate pixel intervals\n",
    "    :param size: the tuple representing (length, height)\n",
    "    :param split_size: the split size\n",
    "    :return:\n",
    "    \"\"\"\n",
    "    og_width, og_height = size[0], size[1]\n",
    "    if og_width < split_size[0] or og_height < split_size[1]:\n",
    "        raise ValueError(\"The split size is larger than the image\")\n",
    "    result_widths = [\n",
    "        (i, i + split_size[0])\n",
    "        for i in range(0, og_width, split_size[0])\n",
    "        if (split_size[0] + i) <= og_width\n",
    "    ]\n",
    "    result_heights = [\n",
    "        (i, i + split_size[1])\n",
    "        for i in range(0, og_height, split_size[1])\n",
    "        if (split_size[1] + i) <= og_height\n",
    "    ]\n",
    "    return result_widths, result_heights"
   ],
   "metadata": {
    "collapsed": false,
    "pycharm": {
     "name": "#%%\n"
    }
   }
  },
  {
   "cell_type": "code",
   "execution_count": null,
   "outputs": [],
   "source": [
    "Image.MAX_IMAGE_PIXELS = 99999999999999999999\n",
    "with Image.open('') as img:\n",
    "    intervals = extract_intervals(img.size, (416, 416))\n",
    "    intervals = [[x[0], y[0], x[1], y[1]] for x, y in zip(intervals[0], intervals[1])]\n",
    "    img_arr = np.array(img)\n",
    "    draw_outputs"
   ],
   "metadata": {
    "collapsed": false,
    "pycharm": {
     "name": "#%%\n"
    }
   }
  },
  {
   "cell_type": "code",
   "execution_count": null,
   "metadata": {
    "collapsed": false,
    "jupyter": {
     "outputs_hidden": false
    },
    "pycharm": {
     "name": "#%%\n"
    }
   },
   "outputs": [],
   "source": [
    "sns.jointplot(x=\"x_pixel\", y=\"y_pixel\", data=normalised_og.round(1))"
   ]
  },
  {
   "cell_type": "code",
   "execution_count": null,
   "metadata": {
    "collapsed": false,
    "jupyter": {
     "outputs_hidden": false
    },
    "pycharm": {
     "name": "#%%\n"
    }
   },
   "outputs": [],
   "source": [
    "all_records = pd.read_csv('/data2/seals/tfrecords/416/416_test_all_records.csv')\n",
    "all_records.head()"
   ]
  },
  {
   "cell_type": "code",
   "execution_count": null,
   "metadata": {
    "collapsed": false,
    "jupyter": {
     "outputs_hidden": false
    },
    "pycharm": {
     "name": "#%%\n"
    }
   },
   "outputs": [],
   "source": [
    "sns.distplot(all_records['x_pixel'])"
   ]
  },
  {
   "cell_type": "code",
   "execution_count": null,
   "metadata": {
    "collapsed": false,
    "jupyter": {
     "outputs_hidden": false
    },
    "pycharm": {
     "name": "#%%\n"
    }
   },
   "outputs": [],
   "source": [
    "normalised = all_records.copy()\n",
    "normalised['x_pixel'] = normalised['x_pixel'].apply(lambda x: x / 416)\n",
    "normalised['y_pixel'] = normalised['y_pixel'].apply(lambda y: y / 416)\n",
    "sns.jointplot(x=\"x_pixel\", y=\"y_pixel\", data=normalised.round(1))"
   ]
  },
  {
   "cell_type": "code",
   "execution_count": null,
   "metadata": {
    "collapsed": false,
    "jupyter": {
     "outputs_hidden": false
    },
    "pycharm": {
     "name": "#%%\n"
    }
   },
   "outputs": [],
   "source": [
    "anchors_og = kmeans(normalised_og[[\"x_pixel\", \"y_pixel\"]].to_numpy(), 9)\n",
    "sns.scatterplot(x=anchors_og[:, 0], y=anchors_og[:, 1])"
   ]
  },
  {
   "cell_type": "code",
   "execution_count": null,
   "outputs": [],
   "source": [
    "anchors = kmeans(normalised[[\"x_pixel\", \"y_pixel\"]].to_numpy(), 9)"
   ],
   "metadata": {
    "collapsed": false,
    "pycharm": {
     "name": "#%%\n"
    }
   }
  },
  {
   "cell_type": "code",
   "execution_count": null,
   "metadata": {
    "collapsed": false,
    "jupyter": {
     "outputs_hidden": false
    },
    "pycharm": {
     "name": "#%%\n"
    }
   },
   "outputs": [],
   "source": [
    "full_dim = np.vectorize(lambda x: x * 416)\n",
    "full_anchors = full_dim(anchors)\n",
    "sns.scatterplot(x=anchors[:, 0], y=anchors[:, 1])"
   ]
  },
  {
   "cell_type": "markdown",
   "source": [
    "## Developing the 1024 model\n",
    "### backbone"
   ],
   "metadata": {
    "collapsed": false,
    "pycharm": {
     "name": "#%% md\n"
    }
   }
  },
  {
   "cell_type": "code",
   "execution_count": null,
   "outputs": [],
   "source": [
    "def Darknet(name=None):\n",
    "    x = inputs = Input([None, None, 3])\n",
    "    x = DarknetConv(x, 32, 3)\n",
    "    x = DarknetBlock(x, 64, 1)\n",
    "    x = DarknetBlock(x, 128, 2)  # skip connection\n",
    "    x = x_36 = DarknetBlock(x, 256, 8)  # skip connection\n",
    "    x = x_61 = DarknetBlock(x, 512, 8)\n",
    "    x = DarknetBlock(x, 1024, 4)\n",
    "    return tf.keras.Model(inputs, (x_36, x_61, x), name=name)\n",
    "\n",
    "backbone = ResNet152V2(input_shape=(1024, 1024, 3), include_top=False)\n",
    "backbone.summary()"
   ],
   "metadata": {
    "collapsed": false,
    "pycharm": {
     "name": "#%%\n"
    }
   }
  },
  {
   "cell_type": "code",
   "execution_count": null,
   "outputs": [],
   "source": [
    "backbone.get_layer('conv5_block3_out').output"
   ],
   "metadata": {
    "collapsed": false,
    "pycharm": {
     "name": "#%%\n"
    }
   }
  },
  {
   "cell_type": "markdown",
   "metadata": {
    "pycharm": {
     "name": "#%% md\n"
    }
   },
   "source": [
    "# Evaluation\n",
    "\n",
    "Evaluating the model accuracy.\n",
    "\n",
    "## The Jaccard Index\n",
    "\n",
    "In object detection it is unlikely that the predicted bounding boxes align perfectly with the ground truth data.\n",
    "The Jaccard index or the Intersection over Union IoU score gives an estimate of how closely the boxes match our ground truth.\n",
    "\n",
    "$IoU = \\frac{area(B_p \\cap B_{gt})}{area(B_p \\cup B_{gt})}$\n",
    "\n",
    "### Loading the train dataset"
   ]
  },
  {
   "cell_type": "code",
   "execution_count": null,
   "metadata": {
    "collapsed": false,
    "jupyter": {
     "outputs_hidden": false
    },
    "pycharm": {
     "name": "#%%\n"
    }
   },
   "outputs": [],
   "source": [
    "train_data_eval = dataset.load_tfrecord_dataset('/data2/seals/tfrecords/416/train.tfrecord', './data/data_files/seal.names', 416)\n",
    "train_data_eval = train_data_eval.map(lambda x, y: (tf.expand_dims(x, 0), y,))\n",
    "train_data_eval = train_data_eval.map(lambda x, y: (dataset.transform_images(x, 416), y,))"
   ]
  },
  {
   "cell_type": "code",
   "execution_count": null,
   "outputs": [],
   "source": [
    "data_eval = dataset.load_tfrecord_dataset('/data2/seals/tfrecords/416/test.tfrecord',\n",
    "                                          './data/data_files/seal.names', 416)\n",
    "data_eval = data_eval.map(lambda x, y: (tf.expand_dims(x, 0), y,))\n",
    "data_eval = data_eval.map(lambda x, y: (dataset.transform_images(x, 416), y,))"
   ],
   "metadata": {
    "collapsed": false,
    "pycharm": {
     "name": "#%%\n"
    }
   }
  },
  {
   "cell_type": "code",
   "execution_count": null,
   "metadata": {
    "collapsed": false,
    "jupyter": {
     "outputs_hidden": false
    },
    "pycharm": {
     "name": "#%%\n"
    }
   },
   "outputs": [],
   "source": [
    "model = YoloV3(classes=80)\n",
    "model.load_weights('/home/md273/model_zoo/416_eager/checkpoints/yolov3_train_7.tf').expect_partial()"
   ]
  },
  {
   "cell_type": "code",
   "execution_count": null,
   "metadata": {
    "collapsed": false,
    "jupyter": {
     "outputs_hidden": false
    },
    "pycharm": {
     "name": "#%%\n"
    }
   },
   "outputs": [],
   "source": [
    "metrics_train = calculate_metrics(train_data_eval, model)\n",
    "metrics_test = calculate_metrics(data_eval, model)"
   ]
  },
  {
   "cell_type": "code",
   "execution_count": null,
   "outputs": [],
   "source": [
    "sns.distplot(metrics_train['ious'], label='train')\n",
    "sns.distplot(metrics_test['ious'], label='test')\n",
    "plt.legend()"
   ],
   "metadata": {
    "collapsed": false,
    "pycharm": {
     "name": "#%%\n"
    }
   }
  },
  {
   "cell_type": "code",
   "execution_count": null,
   "outputs": [],
   "source": [
    "from PIL import Image\n"
   ],
   "metadata": {
    "collapsed": false,
    "pycharm": {
     "name": "#%%\n"
    }
   }
  }
 ],
 "metadata": {
  "kernelspec": {
   "display_name": "Python 3",
   "language": "python",
   "name": "python3"
  },
  "language_info": {
   "codemirror_mode": {
    "name": "ipython",
    "version": 3
   },
   "file_extension": ".py",
   "mimetype": "text/x-python",
   "name": "python",
   "nbconvert_exporter": "python",
   "pygments_lexer": "ipython3",
   "version": "3.8.3"
  }
 },
 "nbformat": 4,
 "nbformat_minor": 4
}