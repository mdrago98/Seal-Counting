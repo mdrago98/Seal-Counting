{
 "cells": [
  {
   "cell_type": "code",
   "execution_count": 1,
   "metadata": {
    "collapsed": true
   },
   "outputs": [],
   "source": [
    "from tensorflow.python.keras import Input\n",
    "from yolov3_tf2.models import YoloV3, Darknet\n",
    "import tensorflow as tf"
   ]
  },
  {
   "cell_type": "code",
   "execution_count": 10,
   "outputs": [],
   "source": [
    "intervals = [412, 512, 608, 1024, 1440]\n",
    "batches = [1, 4, 8]"
   ],
   "metadata": {
    "collapsed": false,
    "pycharm": {
     "name": "#%%\n"
    }
   }
  },
  {
   "cell_type": "code",
   "execution_count": 11,
   "outputs": [],
   "source": [
    "layers = {}\n",
    "shapes = []\n",
    "for interval in intervals:\n",
    "    for batch_size in batches:\n",
    "        _in_416 = tf.zeros([batch_size, interval, interval, 3], dtype=tf.dtypes.float32, name=None)\n",
    "\n",
    "        x_36, x_61, x = Darknet(name=\"yolo_darknet\")(_in_416)\n",
    "        shapes += [\n",
    "            (\n",
    "                batch_size,\n",
    "                interval,\n",
    "                x_36.shape[2],\n",
    "                x_61.shape[2],\n",
    "                x.shape[2],\n",
    "                tf.size(x_36.shape).numpy(),\n",
    "                tf.size(x_61.shape).numpy(),\n",
    "                tf.size(x.shape).numpy(),\n",
    "            )\n",
    "        ]"
   ],
   "metadata": {
    "collapsed": false,
    "pycharm": {
     "name": "#%%\n"
    }
   }
  },
  {
   "cell_type": "code",
   "execution_count": 12,
   "outputs": [
    {
     "data": {
      "text/plain": "[(1, 412, (1, 51, 51, 256), (1, 25, 25, 512), (1, 12, 12, 1024), 4, 4, 4),\n (4, 412, (4, 51, 51, 256), (4, 25, 25, 512), (4, 12, 12, 1024), 4, 4, 4),\n (8, 412, (8, 51, 51, 256), (8, 25, 25, 512), (8, 12, 12, 1024), 4, 4, 4),\n (1, 608, (1, 76, 76, 256), (1, 38, 38, 512), (1, 19, 19, 1024), 4, 4, 4),\n (4, 608, (4, 76, 76, 256), (4, 38, 38, 512), (4, 19, 19, 1024), 4, 4, 4),\n (8, 608, (8, 76, 76, 256), (8, 38, 38, 512), (8, 19, 19, 1024), 4, 4, 4),\n (1, 1024, (1, 128, 128, 256), (1, 64, 64, 512), (1, 32, 32, 1024), 4, 4, 4),\n (4, 1024, (4, 128, 128, 256), (4, 64, 64, 512), (4, 32, 32, 1024), 4, 4, 4),\n (8, 1024, (8, 128, 128, 256), (8, 64, 64, 512), (8, 32, 32, 1024), 4, 4, 4),\n (1, 1440, (1, 180, 180, 256), (1, 90, 90, 512), (1, 45, 45, 1024), 4, 4, 4),\n (4, 1440, (4, 180, 180, 256), (4, 90, 90, 512), (4, 45, 45, 1024), 4, 4, 4),\n (8, 1440, (8, 180, 180, 256), (8, 90, 90, 512), (8, 45, 45, 1024), 4, 4, 4)]"
     },
     "execution_count": 12,
     "metadata": {},
     "output_type": "execute_result"
    }
   ],
   "source": [
    "shapes"
   ],
   "metadata": {
    "collapsed": false,
    "pycharm": {
     "name": "#%%\n"
    }
   }
  },
  {
   "cell_type": "code",
   "execution_count": null,
   "outputs": [],
   "source": [],
   "metadata": {
    "collapsed": false,
    "pycharm": {
     "name": "#%%\n"
    }
   }
  }
 ],
 "metadata": {
  "kernelspec": {
   "display_name": "Python 3",
   "language": "python",
   "name": "python3"
  },
  "language_info": {
   "codemirror_mode": {
    "name": "ipython",
    "version": 2
   },
   "file_extension": ".py",
   "mimetype": "text/x-python",
   "name": "python",
   "nbconvert_exporter": "python",
   "pygments_lexer": "ipython2",
   "version": "2.7.6"
  }
 },
 "nbformat": 4,
 "nbformat_minor": 0
}